{
 "cells": [
  {
   "cell_type": "code",
   "execution_count": 1,
   "id": "a62b824b",
   "metadata": {},
   "outputs": [],
   "source": [
    "## 1.Import libraries\n",
    "\n",
    "import numpy as np\n",
    "import tensorflow as tf\n",
    "from tensorflow import keras\n",
    "from sklearn.preprocessing import StandardScaler, MinMaxScaler\n",
    "from sklearn.model_selection import train_test_split\n",
    "import matplotlib.pyplot as plt\n",
    "import joblib"
   ]
  },
  {
   "cell_type": "code",
   "execution_count": 2,
   "id": "4b4d4a53",
   "metadata": {},
   "outputs": [],
   "source": [
    "## 2.Load data\n",
    "\n",
    "user_data = np.load('data/user_data.npy')\n",
    "item_data = np.load('data/item_data.npy')\n",
    "y_truth   = np.load('data/rating_data.npy')"
   ]
  },
  {
   "cell_type": "code",
   "execution_count": 3,
   "id": "e4b38b5c",
   "metadata": {},
   "outputs": [
    {
     "name": "stdout",
     "output_type": "stream",
     "text": [
      "user train data shape: (5119329, 41)\n",
      "user test data shape: (51711, 41)\n",
      "item train data shape: (5119329, 75)\n",
      "item test data shape: (51711, 75)\n",
      "targets train data shape: (5119329, 75)\n",
      "targets test data shape: (51711, 75)\n"
     ]
    }
   ],
   "source": [
    "## 3.Split data into train, test sets\n",
    "\n",
    "item_train, item_test = train_test_split(item_data, train_size=0.99, shuffle=True, random_state=42)\n",
    "user_train, user_test = train_test_split(user_data, train_size=0.99, shuffle=True, random_state=42)\n",
    "y_train, y_test       = train_test_split(y_truth,   train_size=0.99, shuffle=True, random_state=42)\n",
    "print(f\"user train data shape: {user_train.shape}\")\n",
    "print(f\"user test data shape: {user_test.shape}\")\n",
    "print(f\"item train data shape: {item_train.shape}\")\n",
    "print(f\"item test data shape: {item_test.shape}\")\n",
    "print(f\"targets train data shape: {item_train.shape}\")\n",
    "print(f\"targets test data shape: {item_test.shape}\")"
   ]
  },
  {
   "cell_type": "code",
   "execution_count": 4,
   "id": "79aefc65",
   "metadata": {},
   "outputs": [],
   "source": [
    "## 4.Scale data\n",
    "\n",
    "# Scale item data\n",
    "scalerItem = MinMaxScaler()\n",
    "scalerItem.fit(item_train)\n",
    "item_train_np = scalerItem.transform(item_train).astype(np.float32)\n",
    "item_test_np  = scalerItem.transform(item_test).astype(np.float32)\n",
    "\n",
    "# Scale user data\n",
    "scalerUser = MinMaxScaler()\n",
    "scalerUser.fit(user_train)\n",
    "user_train_np = scalerUser.transform(user_train).astype(np.float32)\n",
    "user_test_np  = scalerUser.transform(user_test).astype(np.float32)\n",
    "\n",
    "# Scale the true ratings\n",
    "scalerTarget = MinMaxScaler()\n",
    "scalerTarget.fit(y_train.reshape(-1, 1))\n",
    "y_train = scalerTarget.transform(y_train.reshape(-1, 1)).astype(np.float32)\n",
    "y_test  = scalerTarget.transform( y_test.reshape(-1, 1)).astype(np.float32)"
   ]
  },
  {
   "cell_type": "code",
   "execution_count": 5,
   "id": "2edfff3a",
   "metadata": {},
   "outputs": [],
   "source": [
    "## 5.Define variables\n",
    "\n",
    "num_user_features = user_train_np.shape[1]\n",
    "num_item_features = item_train_np.shape[1]\n",
    "num_samples       = item_train_np.shape[0]"
   ]
  },
  {
   "cell_type": "code",
   "execution_count": 6,
   "id": "354cf07e",
   "metadata": {},
   "outputs": [
    {
     "data": {
      "text/plain": [
       "(41, 75, 5119329)"
      ]
     },
     "execution_count": 6,
     "metadata": {},
     "output_type": "execute_result"
    }
   ],
   "source": [
    "num_user_features, num_item_features, num_samples"
   ]
  },
  {
   "cell_type": "code",
   "execution_count": 7,
   "id": "4a4c51c5",
   "metadata": {},
   "outputs": [],
   "source": [
    "## 6.Define model\n",
    "\n",
    "class RecommendationModel:\n",
    "    def __init__(self, num_user_features, num_item_features):\n",
    "        self.num_outputs       = 32 #32\n",
    "        self.num_user_features = num_user_features\n",
    "        self.num_item_features = num_item_features\n",
    "        self.num_samples       = num_samples\n",
    "        self.batch_size        = 64\n",
    "\n",
    "    def build_model(self, learning_rate, l2_reg):\n",
    "        tf.random.set_seed(42)\n",
    "        \n",
    "        def dense_layer(units):\n",
    "            return tf.keras.layers.Dense(units=units, activation='relu', \n",
    "                                         kernel_regularizer = tf.keras.regularizers.l2(l2_reg),\n",
    "                                        )\n",
    "            \n",
    "        user_NN = tf.keras.models.Sequential([\n",
    "            dense_layer(units=36),  #36\n",
    "            tf.keras.layers.Dense(units=self.num_outputs, activation='linear')\n",
    "        ])\n",
    "        input_user = tf.keras.layers.Input(shape=(self.num_user_features))\n",
    "        vu         = user_NN(input_user)\n",
    "        vu         = tf.linalg.l2_normalize(vu, axis=1)\n",
    "\n",
    "        item_NN = tf.keras.models.Sequential([\n",
    "            dense_layer(units=60),  #60\n",
    "            tf.keras.layers.Dense(units=self.num_outputs, activation='linear')\n",
    "        ])\n",
    "        input_item = tf.keras.layers.Input(shape=(self.num_item_features))\n",
    "        vm         = item_NN(input_item)\n",
    "        vm         = tf.linalg.l2_normalize(vm, axis=1)\n",
    "        output     = tf.keras.layers.Dot(axes=1)([vu, vm])\n",
    "        model      = tf.keras.Model([input_user, input_item], output)\n",
    "        self.model = model\n",
    "        \n",
    "        self.early_stopping = tf.keras.callbacks.EarlyStopping(\n",
    "            monitor              ='val_loss',       # Monitor validation loss for improvement\n",
    "            patience             = 5,               # Number of epochs with no improvement after which training will be stopped\n",
    "            restore_best_weights = True  # Restore model weights from the epoch with the best value of the monitored quantity\n",
    "        )\n",
    "\n",
    "        lr_schedule = keras.optimizers.schedules.ExponentialDecay(\n",
    "                                                initial_learning_rate = learning_rate,\n",
    "                                                decay_steps           = 10000, #10000\n",
    "                                                decay_rate=0.925)\n",
    "        \n",
    "        self.model.compile(\n",
    "            optimizer = tf.keras.optimizers.Adam(learning_rate=lr_schedule),\n",
    "            loss      = tf.keras.losses.MeanSquaredError(), \n",
    "            metrics   = tf.keras.metrics.RootMeanSquaredError(name='RMSE')\n",
    "                     )\n",
    "\n",
    "    def train(self, user, item, y_train, num_epochs):\n",
    "        history = self.model.fit(\n",
    "            [user, item],\n",
    "            y_train,\n",
    "            epochs=num_epochs,\n",
    "            batch_size=self.batch_size,\n",
    "            validation_split=0.01,\n",
    "            callbacks=[self.early_stopping],\n",
    "            verbose=1,\n",
    "            use_multiprocessing=True)\n",
    "        self.saved_weights = self.model.get_weights()\n",
    "        return history\n",
    "    \n",
    "#     def continue_training(self, user, item, y_train, num_epochs):\n",
    "#         self.model.set_weights(self.saved_weights)\n",
    "#         history = self.train(user, item, y_train, num_epochs)\n",
    "#         return history\n",
    "\n",
    "    def test(self, user, item, y_test):\n",
    "        return self.model.evaluate([user, item], y_test)\n",
    "    \n",
    "    def recommend(self, user, item):\n",
    "        return self.model.predict([user, item])\n",
    "    \n",
    "    def save_model(self, path):\n",
    "        self.model.save(path + 'model.keras')\n"
   ]
  },
  {
   "cell_type": "code",
   "execution_count": 8,
   "id": "fd057df9",
   "metadata": {},
   "outputs": [
    {
     "name": "stdout",
     "output_type": "stream",
     "text": [
      "Epoch 1/100\n",
      "79190/79190 [==============================] - 112s 1ms/step - loss: 0.0320 - RMSE: 0.1757 - val_loss: 0.0303 - val_RMSE: 0.1717\n",
      "Epoch 2/100\n",
      "79190/79190 [==============================] - 95s 1ms/step - loss: 0.0302 - RMSE: 0.1715 - val_loss: 0.0294 - val_RMSE: 0.1696\n",
      "Epoch 3/100\n",
      "79190/79190 [==============================] - 93s 1ms/step - loss: 0.0295 - RMSE: 0.1700 - val_loss: 0.0293 - val_RMSE: 0.1694\n",
      "Epoch 4/100\n",
      "79190/79190 [==============================] - 95s 1ms/step - loss: 0.0291 - RMSE: 0.1690 - val_loss: 0.0289 - val_RMSE: 0.1684\n",
      "Epoch 5/100\n",
      "79190/79190 [==============================] - 102s 1ms/step - loss: 0.0288 - RMSE: 0.1683 - val_loss: 0.0286 - val_RMSE: 0.1678\n",
      "Epoch 6/100\n",
      "79190/79190 [==============================] - 97s 1ms/step - loss: 0.0286 - RMSE: 0.1678 - val_loss: 0.0285 - val_RMSE: 0.1675\n",
      "Epoch 7/100\n",
      "79190/79190 [==============================] - 106s 1ms/step - loss: 0.0285 - RMSE: 0.1676 - val_loss: 0.0284 - val_RMSE: 0.1673\n",
      "Epoch 8/100\n",
      "79190/79190 [==============================] - 95s 1ms/step - loss: 0.0285 - RMSE: 0.1675 - val_loss: 0.0284 - val_RMSE: 0.1672\n",
      "Epoch 9/100\n",
      "79190/79190 [==============================] - 94s 1ms/step - loss: 0.0284 - RMSE: 0.1674 - val_loss: 0.0284 - val_RMSE: 0.1672\n",
      "Epoch 10/100\n",
      "79190/79190 [==============================] - 94s 1ms/step - loss: 0.0284 - RMSE: 0.1673 - val_loss: 0.0284 - val_RMSE: 0.1671\n",
      "Epoch 11/100\n",
      "79190/79190 [==============================] - 94s 1ms/step - loss: 0.0284 - RMSE: 0.1673 - val_loss: 0.0284 - val_RMSE: 0.1671\n",
      "Epoch 12/100\n",
      "79190/79190 [==============================] - 95s 1ms/step - loss: 0.0284 - RMSE: 0.1673 - val_loss: 0.0284 - val_RMSE: 0.1671\n",
      "Epoch 13/100\n",
      "79190/79190 [==============================] - 96s 1ms/step - loss: 0.0284 - RMSE: 0.1673 - val_loss: 0.0284 - val_RMSE: 0.1671\n",
      "Epoch 14/100\n",
      "79190/79190 [==============================] - 104s 1ms/step - loss: 0.0284 - RMSE: 0.1673 - val_loss: 0.0284 - val_RMSE: 0.1671\n",
      "Epoch 15/100\n",
      "79190/79190 [==============================] - 114s 1ms/step - loss: 0.0284 - RMSE: 0.1673 - val_loss: 0.0284 - val_RMSE: 0.1671\n",
      "Epoch 16/100\n",
      "79190/79190 [==============================] - 114s 1ms/step - loss: 0.0284 - RMSE: 0.1673 - val_loss: 0.0284 - val_RMSE: 0.1671\n",
      "Epoch 17/100\n",
      "79190/79190 [==============================] - 115s 1ms/step - loss: 0.0284 - RMSE: 0.1673 - val_loss: 0.0284 - val_RMSE: 0.1671\n",
      "Epoch 18/100\n",
      "79190/79190 [==============================] - 116s 1ms/step - loss: 0.0284 - RMSE: 0.1673 - val_loss: 0.0284 - val_RMSE: 0.1671\n",
      "Epoch 19/100\n",
      "79190/79190 [==============================] - 114s 1ms/step - loss: 0.0284 - RMSE: 0.1673 - val_loss: 0.0284 - val_RMSE: 0.1671\n",
      "Epoch 20/100\n",
      "79190/79190 [==============================] - 101s 1ms/step - loss: 0.0284 - RMSE: 0.1673 - val_loss: 0.0284 - val_RMSE: 0.1671\n",
      "Epoch 21/100\n",
      "79190/79190 [==============================] - 110s 1ms/step - loss: 0.0284 - RMSE: 0.1673 - val_loss: 0.0284 - val_RMSE: 0.1671\n",
      "Epoch 22/100\n",
      "79190/79190 [==============================] - 111s 1ms/step - loss: 0.0284 - RMSE: 0.1673 - val_loss: 0.0284 - val_RMSE: 0.1671\n",
      "Epoch 23/100\n",
      "79190/79190 [==============================] - 110s 1ms/step - loss: 0.0284 - RMSE: 0.1673 - val_loss: 0.0284 - val_RMSE: 0.1671\n",
      "Epoch 24/100\n",
      "79190/79190 [==============================] - 100s 1ms/step - loss: 0.0284 - RMSE: 0.1673 - val_loss: 0.0284 - val_RMSE: 0.1671\n",
      "\n",
      "\n",
      "1616/1616 [==============================] - 2s 957us/step - loss: 0.0285 - RMSE: 0.1676\n"
     ]
    }
   ],
   "source": [
    "## 7.Execute training\n",
    "\n",
    "rec_model = RecommendationModel(num_user_features, num_item_features)\n",
    "rec_model.build_model(learning_rate=0.001, l2_reg=0.0001) #0.001, 0.001\n",
    "history = rec_model.train(user_train_np, item_train_np, y_train, num_epochs=100)\n",
    "print('\\n')\n",
    "test_error = rec_model.test(user_test_np, item_test_np, y_test)"
   ]
  },
  {
   "cell_type": "code",
   "execution_count": 9,
   "id": "231db340",
   "metadata": {},
   "outputs": [
    {
     "name": "stdout",
     "output_type": "stream",
     "text": [
      "range(1, 25)\n"
     ]
    },
    {
     "data": {
      "image/png": "[encoded data removed]",
      "text/plain": [
       "<Figure size 1200x400 with 2 Axes>"
      ]
     },
     "metadata": {},
     "output_type": "display_data"
    }
   ],
   "source": [
    "## 8.Plot results\n",
    "\n",
    "def plot_training_history(history):\n",
    "    # Get training and validation loss values\n",
    "    tMSE = history.history['loss']\n",
    "    vMSE = history.history['val_loss']\n",
    "    tRMSE = history.history['RMSE']  # Assuming RMSE is stored in 'root_mean_squared_error'\n",
    "    vRMSE = history.history['val_RMSE']  # Assuming RMSE is stored in 'val_root_mean_squared_error'\n",
    "\n",
    "    # Create an array of epoch numbers\n",
    "    epochs = range(1, len(tMSE) + 1)\n",
    "    print(epochs)\n",
    "    # Create subplots for MSE and RMSE\n",
    "    fig, (ax1, ax2) = plt.subplots(1, 2, figsize=(12, 4))\n",
    "\n",
    "    # Plot MSE\n",
    "    ax1.plot(epochs, tMSE, 'red', label='Training MSE')\n",
    "    ax1.plot(epochs, vMSE, 'blue', label='Validation MSE')\n",
    "    ax1.set_title('MSE')\n",
    "    ax1.set_xlabel('Epochs')\n",
    "    ax1.set_ylabel('Loss')\n",
    "    ax1.legend()\n",
    "\n",
    "    # Plot RMSE\n",
    "    ax2.plot(epochs, tRMSE, 'red', label='Training RMSE')\n",
    "    ax2.plot(epochs, vRMSE, 'blue', label='Validation RMSE')\n",
    "    ax2.set_title('RMSE')\n",
    "    ax2.set_xlabel('Epochs')\n",
    "    ax2.set_ylabel('Loss')\n",
    "    ax2.legend()\n",
    "\n",
    "    plt.tight_layout()\n",
    "    plt.show()\n",
    "\n",
    "# Assuming history contains the training history\n",
    "plot_training_history(history)\n"
   ]
  },
  {
   "cell_type": "code",
   "execution_count": 10,
   "id": "8c516298",
   "metadata": {},
   "outputs": [
    {
     "data": {
      "text/plain": [
       "['api_calls/scalerTarget.pkl']"
      ]
     },
     "execution_count": 10,
     "metadata": {},
     "output_type": "execute_result"
    }
   ],
   "source": [
    "# 9.Save the model and the Scalers\n",
    "MODEL_PATH = 'api_calls/'\n",
    "rec_model.save_model(MODEL_PATH)\n",
    "\n",
    "joblib.dump(scalerUser,   MODEL_PATH + 'scalerUser.pkl')\n",
    "joblib.dump(scalerItem,   MODEL_PATH + 'scalerItem.pkl')\n",
    "joblib.dump(scalerTarget, MODEL_PATH + 'scalerTarget.pkl')"
   ]
  },
  {
   "cell_type": "code",
   "execution_count": null,
   "id": "ce345dd8",
   "metadata": {},
   "outputs": [],
   "source": []
  }
 ],
 "metadata": {
  "kernelspec": {
   "display_name": "MovieRecommender",
   "language": "python",
   "name": "movierecommender"
  },
  "language_info": {
   "codemirror_mode": {
    "name": "ipython",
    "version": 3
   },
   "file_extension": ".py",
   "mimetype": "text/x-python",
   "name": "python",
   "nbconvert_exporter": "python",
   "pygments_lexer": "ipython3",
   "version": "3.11.4"
  }
 },
 "nbformat": 4,
 "nbformat_minor": 5
}
